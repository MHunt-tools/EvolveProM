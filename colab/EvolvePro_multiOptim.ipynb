{
  "cells": [
    {
      "cell_type": "markdown",
      "metadata": {
        "id": "z7U8tcMUo7ah"
      },
      "source": [
        "## Setup:"
      ]
    },
    {
      "cell_type": "code",
      "execution_count": 1,
      "metadata": {
        "colab": {
          "base_uri": "https://localhost:8080/"
        },
        "id": "eY0TYzM70-cE",
        "outputId": "729c0af0-7598-404e-9f10-b1ce7025a94c"
      },
      "outputs": [
        {
          "output_type": "stream",
          "name": "stdout",
          "text": [
            "Cloning into 'EvolvePro'...\n",
            "remote: Enumerating objects: 1322, done.\u001b[K\n",
            "remote: Counting objects: 100% (35/35), done.\u001b[K\n",
            "remote: Compressing objects: 100% (25/25), done.\u001b[K\n",
            "remote: Total 1322 (delta 14), reused 19 (delta 9), pack-reused 1287 (from 2)\u001b[K\n",
            "Receiving objects: 100% (1322/1322), 85.04 MiB | 10.96 MiB/s, done.\n",
            "Resolving deltas: 100% (722/722), done.\n",
            "/content/EvolvePro\n"
          ]
        }
      ],
      "source": [
        "!git clone https://github.com/mat10d/EvolvePro.git\n",
        "%cd EvolvePro/"
      ]
    },
    {
      "cell_type": "code",
      "execution_count": 2,
      "metadata": {
        "id": "Nxum_v_ieBlO",
        "colab": {
          "base_uri": "https://localhost:8080/"
        },
        "outputId": "33570de4-ad7d-466a-f723-0c80e8298e45"
      },
      "outputs": [
        {
          "output_type": "stream",
          "name": "stdout",
          "text": [
            "Requirement already satisfied: pandas in /usr/local/lib/python3.11/dist-packages (2.2.2)\n",
            "Requirement already satisfied: numpy in /usr/local/lib/python3.11/dist-packages (1.26.4)\n",
            "Requirement already satisfied: scikit-learn in /usr/local/lib/python3.11/dist-packages (1.6.1)\n",
            "Collecting scikit-learn-extra\n",
            "  Downloading scikit_learn_extra-0.3.0-cp311-cp311-manylinux_2_17_x86_64.manylinux2014_x86_64.whl.metadata (3.6 kB)\n",
            "Requirement already satisfied: xgboost in /usr/local/lib/python3.11/dist-packages (2.1.3)\n",
            "Requirement already satisfied: matplotlib in /usr/local/lib/python3.11/dist-packages (3.10.0)\n",
            "Requirement already satisfied: seaborn in /usr/local/lib/python3.11/dist-packages (0.13.2)\n",
            "Collecting biopython\n",
            "  Downloading biopython-1.85-cp311-cp311-manylinux_2_17_x86_64.manylinux2014_x86_64.whl.metadata (13 kB)\n",
            "Requirement already satisfied: scipy in /usr/local/lib/python3.11/dist-packages (1.13.1)\n",
            "Requirement already satisfied: torch in /usr/local/lib/python3.11/dist-packages (2.5.1+cu124)\n",
            "Collecting fair-esm\n",
            "  Downloading fair_esm-2.0.0-py3-none-any.whl.metadata (37 kB)\n",
            "Requirement already satisfied: openpyxl in /usr/local/lib/python3.11/dist-packages (3.1.5)\n",
            "Requirement already satisfied: python-dateutil>=2.8.2 in /usr/local/lib/python3.11/dist-packages (from pandas) (2.8.2)\n",
            "Requirement already satisfied: pytz>=2020.1 in /usr/local/lib/python3.11/dist-packages (from pandas) (2024.2)\n",
            "Requirement already satisfied: tzdata>=2022.7 in /usr/local/lib/python3.11/dist-packages (from pandas) (2025.1)\n",
            "Requirement already satisfied: joblib>=1.2.0 in /usr/local/lib/python3.11/dist-packages (from scikit-learn) (1.4.2)\n",
            "Requirement already satisfied: threadpoolctl>=3.1.0 in /usr/local/lib/python3.11/dist-packages (from scikit-learn) (3.5.0)\n",
            "Requirement already satisfied: nvidia-nccl-cu12 in /usr/local/lib/python3.11/dist-packages (from xgboost) (2.21.5)\n",
            "Requirement already satisfied: contourpy>=1.0.1 in /usr/local/lib/python3.11/dist-packages (from matplotlib) (1.3.1)\n",
            "Requirement already satisfied: cycler>=0.10 in /usr/local/lib/python3.11/dist-packages (from matplotlib) (0.12.1)\n",
            "Requirement already satisfied: fonttools>=4.22.0 in /usr/local/lib/python3.11/dist-packages (from matplotlib) (4.55.7)\n",
            "Requirement already satisfied: kiwisolver>=1.3.1 in /usr/local/lib/python3.11/dist-packages (from matplotlib) (1.4.8)\n",
            "Requirement already satisfied: packaging>=20.0 in /usr/local/lib/python3.11/dist-packages (from matplotlib) (24.2)\n",
            "Requirement already satisfied: pillow>=8 in /usr/local/lib/python3.11/dist-packages (from matplotlib) (11.1.0)\n",
            "Requirement already satisfied: pyparsing>=2.3.1 in /usr/local/lib/python3.11/dist-packages (from matplotlib) (3.2.1)\n",
            "Requirement already satisfied: filelock in /usr/local/lib/python3.11/dist-packages (from torch) (3.17.0)\n",
            "Requirement already satisfied: typing-extensions>=4.8.0 in /usr/local/lib/python3.11/dist-packages (from torch) (4.12.2)\n",
            "Requirement already satisfied: networkx in /usr/local/lib/python3.11/dist-packages (from torch) (3.4.2)\n",
            "Requirement already satisfied: jinja2 in /usr/local/lib/python3.11/dist-packages (from torch) (3.1.5)\n",
            "Requirement already satisfied: fsspec in /usr/local/lib/python3.11/dist-packages (from torch) (2024.10.0)\n",
            "Collecting nvidia-cuda-nvrtc-cu12==12.4.127 (from torch)\n",
            "  Downloading nvidia_cuda_nvrtc_cu12-12.4.127-py3-none-manylinux2014_x86_64.whl.metadata (1.5 kB)\n",
            "Collecting nvidia-cuda-runtime-cu12==12.4.127 (from torch)\n",
            "  Downloading nvidia_cuda_runtime_cu12-12.4.127-py3-none-manylinux2014_x86_64.whl.metadata (1.5 kB)\n",
            "Collecting nvidia-cuda-cupti-cu12==12.4.127 (from torch)\n",
            "  Downloading nvidia_cuda_cupti_cu12-12.4.127-py3-none-manylinux2014_x86_64.whl.metadata (1.6 kB)\n",
            "Collecting nvidia-cudnn-cu12==9.1.0.70 (from torch)\n",
            "  Downloading nvidia_cudnn_cu12-9.1.0.70-py3-none-manylinux2014_x86_64.whl.metadata (1.6 kB)\n",
            "Collecting nvidia-cublas-cu12==12.4.5.8 (from torch)\n",
            "  Downloading nvidia_cublas_cu12-12.4.5.8-py3-none-manylinux2014_x86_64.whl.metadata (1.5 kB)\n",
            "Collecting nvidia-cufft-cu12==11.2.1.3 (from torch)\n",
            "  Downloading nvidia_cufft_cu12-11.2.1.3-py3-none-manylinux2014_x86_64.whl.metadata (1.5 kB)\n",
            "Collecting nvidia-curand-cu12==10.3.5.147 (from torch)\n",
            "  Downloading nvidia_curand_cu12-10.3.5.147-py3-none-manylinux2014_x86_64.whl.metadata (1.5 kB)\n",
            "Collecting nvidia-cusolver-cu12==11.6.1.9 (from torch)\n",
            "  Downloading nvidia_cusolver_cu12-11.6.1.9-py3-none-manylinux2014_x86_64.whl.metadata (1.6 kB)\n",
            "Collecting nvidia-cusparse-cu12==12.3.1.170 (from torch)\n",
            "  Downloading nvidia_cusparse_cu12-12.3.1.170-py3-none-manylinux2014_x86_64.whl.metadata (1.6 kB)\n",
            "Requirement already satisfied: nvidia-nvtx-cu12==12.4.127 in /usr/local/lib/python3.11/dist-packages (from torch) (12.4.127)\n",
            "Collecting nvidia-nvjitlink-cu12==12.4.127 (from torch)\n",
            "  Downloading nvidia_nvjitlink_cu12-12.4.127-py3-none-manylinux2014_x86_64.whl.metadata (1.5 kB)\n",
            "Requirement already satisfied: triton==3.1.0 in /usr/local/lib/python3.11/dist-packages (from torch) (3.1.0)\n",
            "Requirement already satisfied: sympy==1.13.1 in /usr/local/lib/python3.11/dist-packages (from torch) (1.13.1)\n",
            "Requirement already satisfied: mpmath<1.4,>=1.1.0 in /usr/local/lib/python3.11/dist-packages (from sympy==1.13.1->torch) (1.3.0)\n",
            "Requirement already satisfied: et-xmlfile in /usr/local/lib/python3.11/dist-packages (from openpyxl) (2.0.0)\n",
            "Requirement already satisfied: six>=1.5 in /usr/local/lib/python3.11/dist-packages (from python-dateutil>=2.8.2->pandas) (1.17.0)\n",
            "Requirement already satisfied: MarkupSafe>=2.0 in /usr/local/lib/python3.11/dist-packages (from jinja2->torch) (3.0.2)\n",
            "Downloading scikit_learn_extra-0.3.0-cp311-cp311-manylinux_2_17_x86_64.manylinux2014_x86_64.whl (2.1 MB)\n",
            "\u001b[2K   \u001b[90m━━━━━━━━━━━━━━━━━━━━━━━━━━━━━━━━━━━━━━━━\u001b[0m \u001b[32m2.1/2.1 MB\u001b[0m \u001b[31m32.2 MB/s\u001b[0m eta \u001b[36m0:00:00\u001b[0m\n",
            "\u001b[?25hDownloading biopython-1.85-cp311-cp311-manylinux_2_17_x86_64.manylinux2014_x86_64.whl (3.3 MB)\n",
            "\u001b[2K   \u001b[90m━━━━━━━━━━━━━━━━━━━━━━━━━━━━━━━━━━━━━━━━\u001b[0m \u001b[32m3.3/3.3 MB\u001b[0m \u001b[31m65.7 MB/s\u001b[0m eta \u001b[36m0:00:00\u001b[0m\n",
            "\u001b[?25hDownloading nvidia_cublas_cu12-12.4.5.8-py3-none-manylinux2014_x86_64.whl (363.4 MB)\n",
            "\u001b[2K   \u001b[90m━━━━━━━━━━━━━━━━━━━━━━━━━━━━━━━━━━━━━━━━\u001b[0m \u001b[32m363.4/363.4 MB\u001b[0m \u001b[31m5.0 MB/s\u001b[0m eta \u001b[36m0:00:00\u001b[0m\n",
            "\u001b[?25hDownloading nvidia_cuda_cupti_cu12-12.4.127-py3-none-manylinux2014_x86_64.whl (13.8 MB)\n",
            "\u001b[2K   \u001b[90m━━━━━━━━━━━━━━━━━━━━━━━━━━━━━━━━━━━━━━━━\u001b[0m \u001b[32m13.8/13.8 MB\u001b[0m \u001b[31m66.3 MB/s\u001b[0m eta \u001b[36m0:00:00\u001b[0m\n",
            "\u001b[?25hDownloading nvidia_cuda_nvrtc_cu12-12.4.127-py3-none-manylinux2014_x86_64.whl (24.6 MB)\n",
            "\u001b[2K   \u001b[90m━━━━━━━━━━━━━━━━━━━━━━━━━━━━━━━━━━━━━━━━\u001b[0m \u001b[32m24.6/24.6 MB\u001b[0m \u001b[31m54.1 MB/s\u001b[0m eta \u001b[36m0:00:00\u001b[0m\n",
            "\u001b[?25hDownloading nvidia_cuda_runtime_cu12-12.4.127-py3-none-manylinux2014_x86_64.whl (883 kB)\n",
            "\u001b[2K   \u001b[90m━━━━━━━━━━━━━━━━━━━━━━━━━━━━━━━━━━━━━━━━\u001b[0m \u001b[32m883.7/883.7 kB\u001b[0m \u001b[31m60.1 MB/s\u001b[0m eta \u001b[36m0:00:00\u001b[0m\n",
            "\u001b[?25hDownloading nvidia_cudnn_cu12-9.1.0.70-py3-none-manylinux2014_x86_64.whl (664.8 MB)\n",
            "\u001b[2K   \u001b[90m━━━━━━━━━━━━━━━━━━━━━━━━━━━━━━━━━━━━━━━━\u001b[0m \u001b[32m664.8/664.8 MB\u001b[0m \u001b[31m2.9 MB/s\u001b[0m eta \u001b[36m0:00:00\u001b[0m\n",
            "\u001b[?25hDownloading nvidia_cufft_cu12-11.2.1.3-py3-none-manylinux2014_x86_64.whl (211.5 MB)\n",
            "\u001b[2K   \u001b[90m━━━━━━━━━━━━━━━━━━━━━━━━━━━━━━━━━━━━━━━━\u001b[0m \u001b[32m211.5/211.5 MB\u001b[0m \u001b[31m6.8 MB/s\u001b[0m eta \u001b[36m0:00:00\u001b[0m\n",
            "\u001b[?25hDownloading nvidia_curand_cu12-10.3.5.147-py3-none-manylinux2014_x86_64.whl (56.3 MB)\n",
            "\u001b[2K   \u001b[90m━━━━━━━━━━━━━━━━━━━━━━━━━━━━━━━━━━━━━━━━\u001b[0m \u001b[32m56.3/56.3 MB\u001b[0m \u001b[31m11.5 MB/s\u001b[0m eta \u001b[36m0:00:00\u001b[0m\n",
            "\u001b[?25hDownloading nvidia_cusolver_cu12-11.6.1.9-py3-none-manylinux2014_x86_64.whl (127.9 MB)\n",
            "\u001b[2K   \u001b[90m━━━━━━━━━━━━━━━━━━━━━━━━━━━━━━━━━━━━━━━━\u001b[0m \u001b[32m127.9/127.9 MB\u001b[0m \u001b[31m7.1 MB/s\u001b[0m eta \u001b[36m0:00:00\u001b[0m\n",
            "\u001b[?25hDownloading nvidia_cusparse_cu12-12.3.1.170-py3-none-manylinux2014_x86_64.whl (207.5 MB)\n",
            "\u001b[2K   \u001b[90m━━━━━━━━━━━━━━━━━━━━━━━━━━━━━━━━━━━━━━━━\u001b[0m \u001b[32m207.5/207.5 MB\u001b[0m \u001b[31m4.9 MB/s\u001b[0m eta \u001b[36m0:00:00\u001b[0m\n",
            "\u001b[?25hDownloading nvidia_nvjitlink_cu12-12.4.127-py3-none-manylinux2014_x86_64.whl (21.1 MB)\n",
            "\u001b[2K   \u001b[90m━━━━━━━━━━━━━━━━━━━━━━━━━━━━━━━━━━━━━━━━\u001b[0m \u001b[32m21.1/21.1 MB\u001b[0m \u001b[31m61.3 MB/s\u001b[0m eta \u001b[36m0:00:00\u001b[0m\n",
            "\u001b[?25hDownloading fair_esm-2.0.0-py3-none-any.whl (93 kB)\n",
            "\u001b[2K   \u001b[90m━━━━━━━━━━━━━━━━━━━━━━━━━━━━━━━━━━━━━━━━\u001b[0m \u001b[32m93.1/93.1 kB\u001b[0m \u001b[31m5.8 MB/s\u001b[0m eta \u001b[36m0:00:00\u001b[0m\n",
            "\u001b[?25hInstalling collected packages: fair-esm, nvidia-nvjitlink-cu12, nvidia-curand-cu12, nvidia-cufft-cu12, nvidia-cuda-runtime-cu12, nvidia-cuda-nvrtc-cu12, nvidia-cuda-cupti-cu12, nvidia-cublas-cu12, biopython, nvidia-cusparse-cu12, nvidia-cudnn-cu12, scikit-learn-extra, nvidia-cusolver-cu12\n",
            "  Attempting uninstall: nvidia-nvjitlink-cu12\n",
            "    Found existing installation: nvidia-nvjitlink-cu12 12.5.82\n",
            "    Uninstalling nvidia-nvjitlink-cu12-12.5.82:\n",
            "      Successfully uninstalled nvidia-nvjitlink-cu12-12.5.82\n",
            "  Attempting uninstall: nvidia-curand-cu12\n",
            "    Found existing installation: nvidia-curand-cu12 10.3.6.82\n",
            "    Uninstalling nvidia-curand-cu12-10.3.6.82:\n",
            "      Successfully uninstalled nvidia-curand-cu12-10.3.6.82\n",
            "  Attempting uninstall: nvidia-cufft-cu12\n",
            "    Found existing installation: nvidia-cufft-cu12 11.2.3.61\n",
            "    Uninstalling nvidia-cufft-cu12-11.2.3.61:\n",
            "      Successfully uninstalled nvidia-cufft-cu12-11.2.3.61\n",
            "  Attempting uninstall: nvidia-cuda-runtime-cu12\n",
            "    Found existing installation: nvidia-cuda-runtime-cu12 12.5.82\n",
            "    Uninstalling nvidia-cuda-runtime-cu12-12.5.82:\n",
            "      Successfully uninstalled nvidia-cuda-runtime-cu12-12.5.82\n",
            "  Attempting uninstall: nvidia-cuda-nvrtc-cu12\n",
            "    Found existing installation: nvidia-cuda-nvrtc-cu12 12.5.82\n",
            "    Uninstalling nvidia-cuda-nvrtc-cu12-12.5.82:\n",
            "      Successfully uninstalled nvidia-cuda-nvrtc-cu12-12.5.82\n",
            "  Attempting uninstall: nvidia-cuda-cupti-cu12\n",
            "    Found existing installation: nvidia-cuda-cupti-cu12 12.5.82\n",
            "    Uninstalling nvidia-cuda-cupti-cu12-12.5.82:\n",
            "      Successfully uninstalled nvidia-cuda-cupti-cu12-12.5.82\n",
            "  Attempting uninstall: nvidia-cublas-cu12\n",
            "    Found existing installation: nvidia-cublas-cu12 12.5.3.2\n",
            "    Uninstalling nvidia-cublas-cu12-12.5.3.2:\n",
            "      Successfully uninstalled nvidia-cublas-cu12-12.5.3.2\n",
            "  Attempting uninstall: nvidia-cusparse-cu12\n",
            "    Found existing installation: nvidia-cusparse-cu12 12.5.1.3\n",
            "    Uninstalling nvidia-cusparse-cu12-12.5.1.3:\n",
            "      Successfully uninstalled nvidia-cusparse-cu12-12.5.1.3\n",
            "  Attempting uninstall: nvidia-cudnn-cu12\n",
            "    Found existing installation: nvidia-cudnn-cu12 9.3.0.75\n",
            "    Uninstalling nvidia-cudnn-cu12-9.3.0.75:\n",
            "      Successfully uninstalled nvidia-cudnn-cu12-9.3.0.75\n",
            "  Attempting uninstall: nvidia-cusolver-cu12\n",
            "    Found existing installation: nvidia-cusolver-cu12 11.6.3.83\n",
            "    Uninstalling nvidia-cusolver-cu12-11.6.3.83:\n",
            "      Successfully uninstalled nvidia-cusolver-cu12-11.6.3.83\n",
            "Successfully installed biopython-1.85 fair-esm-2.0.0 nvidia-cublas-cu12-12.4.5.8 nvidia-cuda-cupti-cu12-12.4.127 nvidia-cuda-nvrtc-cu12-12.4.127 nvidia-cuda-runtime-cu12-12.4.127 nvidia-cudnn-cu12-9.1.0.70 nvidia-cufft-cu12-11.2.1.3 nvidia-curand-cu12-10.3.5.147 nvidia-cusolver-cu12-11.6.1.9 nvidia-cusparse-cu12-12.3.1.170 nvidia-nvjitlink-cu12-12.4.127 scikit-learn-extra-0.3.0\n"
          ]
        }
      ],
      "source": [
        "!pip install pandas numpy scikit-learn scikit-learn-extra xgboost matplotlib seaborn biopython scipy torch fair-esm openpyxl\n",
        "!mkdir /content/output"
      ]
    },
    {
      "cell_type": "markdown",
      "metadata": {
        "id": "MPYtN9W5o-UD"
      },
      "source": [
        "## Get embeddings from sequence"
      ]
    },
    {
      "cell_type": "code",
      "execution_count": 3,
      "metadata": {
        "colab": {
          "base_uri": "https://localhost:8080/"
        },
        "id": "xZVqxVCXftSE",
        "outputId": "3f3a0ee5-518a-43a2-f66b-61a2b0b53c36"
      },
      "outputs": [
        {
          "output_type": "stream",
          "name": "stdout",
          "text": [
            "Number of mutants: 1369\n"
          ]
        }
      ],
      "source": [
        "from evolvepro.src.process import generate_wt, generate_single_aa_mutants\n",
        "\n",
        "## Define sequence\n",
        "protein_name = 'kelsic'\n",
        "wt_protein_sequence = 'MAKEDNIEMQGTVLETLPNTMFRVELENGHVVTAHISGKMRKNYIRILTGDKVTVELTPYDLSKGRIVFRSR'\n",
        "\n",
        "## Define file outpaths\n",
        "wt_fasta_path = f'/content/output/{protein_name}_WT.fasta'\n",
        "mut_fasta_path = f'/content/output/{protein_name}.fasta'\n",
        "\n",
        "## Process sequence\n",
        "generate_wt(wt_protein_sequence, output_file=wt_fasta_path)\n",
        "generate_single_aa_mutants(wt_fasta_path, output_file=mut_fasta_path)"
      ]
    },
    {
      "cell_type": "code",
      "execution_count": 4,
      "metadata": {
        "colab": {
          "base_uri": "https://localhost:8080/"
        },
        "id": "hhtBO0g2gu2R",
        "outputId": "26a24974-a7cf-44f9-9288-69163a8a1866"
      },
      "outputs": [
        {
          "output_type": "stream",
          "name": "stdout",
          "text": [
            "\n",
            "Suggested 12 mutants for testing:\n",
            "1. R23K\n",
            "2. T58E\n",
            "3. I36D\n",
            "4. V31C\n",
            "5. I7A\n",
            "6. K3F\n",
            "7. Q10P\n",
            "8. G38E\n",
            "9. E4M\n",
            "10. D61W\n",
            "11. E4Y\n",
            "12. R23N\n"
          ]
        }
      ],
      "source": [
        "## Suggest initial mutants for testing\n",
        "from evolvepro.src.process import suggest_initial_mutants\n",
        "suggest_initial_mutants(mut_fasta_path, num_mutants=12, random_seed=42)"
      ]
    },
    {
      "cell_type": "code",
      "execution_count": 17,
      "metadata": {
        "colab": {
          "base_uri": "https://localhost:8080/"
        },
        "id": "ASOkwC-nlGkN",
        "outputId": "85c667a8-644e-4102-c5dd-c5d50994ffe3"
      },
      "outputs": [
        {
          "output_type": "execute_result",
          "data": {
            "text/plain": [
              "0"
            ]
          },
          "metadata": {},
          "execution_count": 17
        }
      ],
      "source": [
        "## Specify model to use for embedding\n",
        "import os, sys\n",
        "'''\n",
        "ESM models for use:\n",
        "    esm2_t6_8M_UR50D (8 million parameters)\n",
        "    esm2_t12_35M_UR50D (35 million parameters)\n",
        "    esm2_t30_150M_UR50D (150 million parameters)\n",
        "    esm2_t36_3B_UR50D (3 billion parameters)\n",
        "    esm2_t48_15B_UR50D (15 billion parameters)\n",
        "'''\n",
        "model_name = 'esm2_t6_8M_UR50D'\n",
        "\n",
        "## Extract mean embeddings\n",
        "input_fasta_path = f'/content/output/{protein_name}.fasta'\n",
        "embeddings_file_lead = f'{protein_name}_{model_name}'\n",
        "embeddings_base_path = '/content/output'\n",
        "os.system(f'python evolvepro/plm/esm/extract.py {model_name} {input_fasta_path} {embeddings_base_path}/{embeddings_file_lead} --toks_per_batch 512 --include mean --concatenate_dir {embeddings_base_path}')\n"
      ]
    },
    {
      "cell_type": "markdown",
      "metadata": {
        "id": "K7dsiAr6spa0"
      },
      "source": [
        "## Reclass"
      ]
    },
    {
      "cell_type": "code",
      "execution_count": 19,
      "metadata": {
        "id": "4uMx5K_gspa0"
      },
      "outputs": [],
      "source": [
        "import pandas as pd\n",
        "from typing import List, Dict, Any, Optional, Tuple\n",
        "import os, sys\n",
        "import pandas as pd\n",
        "import numpy as np\n",
        "import random"
      ]
    },
    {
      "cell_type": "code",
      "execution_count": 20,
      "metadata": {
        "colab": {
          "base_uri": "https://localhost:8080/"
        },
        "id": "CBMMQ4Mfspa0",
        "outputId": "c9b8673c-917c-4db1-9249-a9adcf0f4afa"
      },
      "outputs": [
        {
          "output_type": "stream",
          "name": "stdout",
          "text": [
            "colab/rounds_data/kelsic_Round1_aug.xlsx\n",
            "colab/rounds_data/kelsic_Round2_aug.xlsx\n",
            "colab/rounds_data/kelsic_Round3_aug.xlsx\n",
            "colab/rounds_data/kelsic_Round4_aug.xlsx\n",
            "colab/rounds_data/kelsic_Round5_aug.xlsx\n"
          ]
        }
      ],
      "source": [
        "## Augment data\n",
        "n_predictions = 5\n",
        "round_files = [f'colab/rounds_data/kelsic_Round{i}.xlsx' for i in range(1, 6)]\n",
        "for file_name in round_files:\n",
        "    ## Read df\n",
        "    df = pd.read_excel(file_name)\n",
        "    ## Adjust column names\n",
        "    columns = df.columns\n",
        "    columns = ['Variant', 'activity_0']\n",
        "    df.columns = columns\n",
        "    ## Add additional random predictions\n",
        "    for i in range(1, n_predictions):\n",
        "        df[f'activity_{i}'] = np.random.rand(len(df))\n",
        "    df.to_excel(file_name[:-5] + '_aug' + '.xlsx', index=False)\n",
        "    print(file_name[:-5] + '_aug' + '.xlsx')\n"
      ]
    },
    {
      "cell_type": "code",
      "execution_count": 24,
      "metadata": {
        "id": "VVjdQJhCspa1"
      },
      "outputs": [],
      "source": [
        "from evolvepro.src.data import load_dms_data, load_experimental_embeddings, load_experimental_data, create_iteration_dataframes\n",
        "from evolvepro.src.utils import pca_embeddings\n",
        "from evolvepro.src.model import first_round, top_layer\n",
        "\n",
        "\n",
        "''' Adjustments to evolve_experimental to suppress print statements'''\n",
        "def evolve_experimental(\n",
        "    protein_name : str,\n",
        "    round_name : str,\n",
        "    embeddings_base_path : str,\n",
        "    embeddings_file_name : str,\n",
        "    round_base_path : str,\n",
        "    round_file_names : List[str],\n",
        "    wt_fasta_path : str,\n",
        "    rename_WT : bool = False,\n",
        "    number_of_variants : int = 12,\n",
        "    output_dir : str = '/orcd/archive/abugoot/001/Projects/Matteo/Github/EvolvePro/output/exp_results/'\n",
        ") -> Tuple[pd.DataFrame, pd.DataFrame, pd.DataFrame]:\n",
        "\n",
        "    \"\"\"\n",
        "    Perform one round of directed evolution for a protein.\n",
        "\n",
        "    Args:\n",
        "    protein_name (str): Name of the protein.\n",
        "    round_name (str): Name of the current round (e.g., 'Round1').\n",
        "    embeddings_base_path (str): Base path for embeddings file.\n",
        "    embeddings_file_name (str): Name of the embeddings file.\n",
        "    round_base_path (str): Base path for round data files.\n",
        "    round_file_names (list): List of round file names.\n",
        "    wt_fasta_path (str): Path to the wild-type FASTA file.\n",
        "    rename_WT (bool): Whether to rename the wild-type.\n",
        "    number_of_variants (int): Number of top variants to display.\n",
        "    output_dir (str): Directory to save output files.\n",
        "\n",
        "    Returns:\n",
        "    tuple: (this_round_variants, df_test, df_sorted_all)\n",
        "    \"\"\"\n",
        "\n",
        "    # Load embeddings\n",
        "    embeddings = load_experimental_embeddings(embeddings_base_path, embeddings_file_name, rename_WT)\n",
        "\n",
        "    # Load experimental data\n",
        "    all_experimental_data = []\n",
        "    for round_file_name in round_file_names:\n",
        "        experimental_data = load_experimental_data(round_base_path, round_file_name, wt_fasta_path)\n",
        "        all_experimental_data.append(experimental_data)\n",
        "\n",
        "    # Create iteration dataframes\n",
        "    iteration, labels = create_iteration_dataframes(all_experimental_data, embeddings.index)\n",
        "\n",
        "    # Perform top layer analysis\n",
        "    this_round_variants, df_test, df_sorted_all = top_layer(\n",
        "        iter_train=iteration['iteration'].unique().tolist(),\n",
        "        iter_test=None,\n",
        "        embeddings_pd=embeddings,\n",
        "        labels_pd=labels,\n",
        "        measured_var='activity',\n",
        "        regression_type='randomforest',\n",
        "        experimental=True\n",
        "    )\n",
        "\n",
        "    # Save results if an output_dir is provided\n",
        "    if output_dir is not None:\n",
        "        output_dir = os.path.join(output_dir, protein_name, round_name)\n",
        "        os.makedirs(output_dir, exist_ok=True)\n",
        "        iteration.to_csv(os.path.join(output_dir, 'iteration.csv'))\n",
        "        this_round_variants.to_csv(os.path.join(output_dir, 'this_round_variants.csv'))\n",
        "        df_test = df_test.sort_values(by=['y_pred'], ascending=False)\n",
        "        df_test.to_csv(os.path.join(output_dir, 'df_test.csv'))\n",
        "        df_sorted_all.to_csv(os.path.join(output_dir, 'df_sorted_all.csv'))\n",
        "        print(f\"\\nData saved to {output_dir}\")\n",
        "\n",
        "    return this_round_variants, df_test, df_sorted_all\n",
        "\n",
        "'''Wrapper to run evolve_experimental multiple times for each individual attribute'''\n",
        "def mh_evolve_experimental(\n",
        "        protein_name : str,\n",
        "        round_name : str,\n",
        "        embeddings_base_path : str,\n",
        "        embeddings_file_name : str,\n",
        "        round_base_path : str,\n",
        "        round_file_names : List[str],\n",
        "        wt_fasta_path : str,\n",
        "        rename_WT : bool = False,\n",
        "        number_of_variants : int = 12,\n",
        "        activity_opt : dict = None,\n",
        "        output_dir : str = '/orcd/archive/abugoot/001/Projects/Matteo/Github/EvolvePro/output/exp_results/',\n",
        "    ) -> Tuple[pd.DataFrame, pd.DataFrame, pd.DataFrame]:\n",
        "\n",
        "    ## Export to individual excel files\n",
        "    activities_dir = f'{round_base_path}/activities'\n",
        "    os.makedirs(activities_dir, exist_ok=True)\n",
        "    activities_file_name_dict = {}\n",
        "    for round_file_name in round_file_names:\n",
        "        df = pd.read_excel(f'{round_base_path}/{round_file_name}')\n",
        "        activity_cols = [i for i in df.columns if i != 'Variant']\n",
        "        ## Iterate across non-variant columns\n",
        "        for col in activity_cols:\n",
        "            val_df = df[['Variant', col]]\n",
        "            val_df.columns = ['Variant', 'activity']\n",
        "            val_df_filename = f'{round_file_name[:-5]}_{col}.xlsx'\n",
        "            val_df.to_excel(f'{activities_dir}/{val_df_filename}', index=False)\n",
        "            activities_file_name_dict[col] = activities_file_name_dict[col] + [val_df_filename] if col in activities_file_name_dict.keys() else [val_df_filename]\n",
        "\n",
        "    total_dfs = None\n",
        "    for activity in activities_file_name_dict.keys():\n",
        "        print(f'Processing {activity}')\n",
        "        ## Get activity filenames\n",
        "        activity_file_names = activities_file_name_dict[activity]\n",
        "\n",
        "        ## Run experimental evolution\n",
        "        this_round_variants, df_test, df_sorted_all = evolve_experimental(\n",
        "        protein_name,\n",
        "        round_name,\n",
        "        embeddings_base_path,\n",
        "        embeddings_file_name,\n",
        "        activities_dir,\n",
        "        activity_file_names,\n",
        "        wt_fasta_path,\n",
        "        rename_WT,\n",
        "        number_of_variants,\n",
        "        output_dir=None,\n",
        "        )\n",
        "\n",
        "        ## Calculate rank of variant\n",
        "        ascending=False\n",
        "        if activity_opt and activity in activity_opt.keys():\n",
        "            ascending = False if activity_opt[activity] == 'max' else True\n",
        "        if activity_opt and activity not in activity_opt.keys():\n",
        "            print(f'{activity} not in activity_opt. Setting default to \"maximum\" optimization')\n",
        "        df_sorted_all['rank'] = df_sorted_all['y_pred'].rank(ascending=ascending, method='dense')\n",
        "\n",
        "        ## Add to list\n",
        "        total_dfs = pd.concat([total_dfs, df_sorted_all.set_index('variant').add_suffix(f'_{activity}')], axis=1)\n",
        "\n",
        "    ## Calculate combined rank\n",
        "    total_dfs.reset_index(inplace=True)\n",
        "    rank_cols = [i for i in total_dfs.columns if i.__contains__('rank')]\n",
        "    total_dfs['Sum_rank'] = total_dfs[rank_cols].sum(axis=1)\n",
        "    total_dfs = total_dfs.sort_values(by=['Sum_rank'], ascending=True)\n",
        "\n",
        "    # Print results\n",
        "    print(f\"\\nTested variants in this round: {len(this_round_variants)}\")\n",
        "    print(this_round_variants)\n",
        "    print(f\"\\nTop {number_of_variants} variants predicted by the model:\")\n",
        "    print(total_dfs.sort_values(by=['Sum_rank'], ascending=True).head(number_of_variants)[['variant', 'Sum_rank']])\n",
        "\n",
        "    ## make df_test\n",
        "    train_cols = [i for i in total_dfs.columns if i.__contains__('y_actual')]\n",
        "\n",
        "    # Save results if an output_dir is provided\n",
        "    if output_dir is not None:\n",
        "        output_dir = os.path.join(output_dir, protein_name, round_name)\n",
        "        os.makedirs(output_dir, exist_ok=True)\n",
        "        this_round_variants.to_csv(os.path.join(output_dir, 'this_round_variants.csv'))\n",
        "        total_dfs[total_dfs[train_cols].isna()].to_csv(os.path.join(output_dir, 'df_test.csv'))\n",
        "        total_dfs.to_csv(os.path.join(output_dir, 'df_sorted_all.csv'))\n",
        "        print(f\"\\nData saved to {output_dir}\")\n",
        "\n",
        "    return this_round_variants, total_dfs[total_dfs[train_cols].isna()], total_dfs"
      ]
    },
    {
      "cell_type": "markdown",
      "metadata": {
        "id": "5cYm9CwunCUr"
      },
      "source": [
        "## Run EVOLVEpro"
      ]
    },
    {
      "cell_type": "code",
      "execution_count": 25,
      "metadata": {
        "id": "UVmQ1CruxxQr"
      },
      "outputs": [],
      "source": [
        "embeddings_file_name = f'{embeddings_file_lead}.csv'\n",
        "round_base_path = 'colab/rounds_data'\n",
        "number_of_variants = 12\n",
        "output_dir = embeddings_base_path + '/'\n",
        "rename_WT = False"
      ]
    },
    {
      "cell_type": "markdown",
      "source": [
        "## Round 1"
      ],
      "metadata": {
        "id": "dNqknS6nulJ-"
      }
    },
    {
      "cell_type": "code",
      "execution_count": 26,
      "metadata": {
        "colab": {
          "base_uri": "https://localhost:8080/"
        },
        "id": "XYcxk5M5ot4m",
        "outputId": "e9b9b8cb-bbf7-4c0a-aa14-ccf3a497e4a7"
      },
      "outputs": [
        {
          "output_type": "stream",
          "name": "stdout",
          "text": [
            "Processing activity_0\n",
            "Embeddings and labels are aligned\n",
            "(1357,)\n"
          ]
        },
        {
          "output_type": "stream",
          "name": "stderr",
          "text": [
            "/content/EvolvePro/evolvepro/src/model.py:198: FutureWarning: The behavior of DataFrame concatenation with empty or all-NA entries is deprecated. In a future version, this will no longer exclude empty or all-NA columns when determining the result dtypes. To retain the old behavior, exclude the relevant entries before the concat operation.\n",
            "  df_all = pd.concat([df_train, df_test])\n"
          ]
        },
        {
          "output_type": "stream",
          "name": "stdout",
          "text": [
            "Processing activity_1\n",
            "Embeddings and labels are aligned\n",
            "(1357,)\n"
          ]
        },
        {
          "output_type": "stream",
          "name": "stderr",
          "text": [
            "/content/EvolvePro/evolvepro/src/model.py:198: FutureWarning: The behavior of DataFrame concatenation with empty or all-NA entries is deprecated. In a future version, this will no longer exclude empty or all-NA columns when determining the result dtypes. To retain the old behavior, exclude the relevant entries before the concat operation.\n",
            "  df_all = pd.concat([df_train, df_test])\n"
          ]
        },
        {
          "output_type": "stream",
          "name": "stdout",
          "text": [
            "Processing activity_2\n",
            "Embeddings and labels are aligned\n",
            "(1357,)\n"
          ]
        },
        {
          "output_type": "stream",
          "name": "stderr",
          "text": [
            "/content/EvolvePro/evolvepro/src/model.py:198: FutureWarning: The behavior of DataFrame concatenation with empty or all-NA entries is deprecated. In a future version, this will no longer exclude empty or all-NA columns when determining the result dtypes. To retain the old behavior, exclude the relevant entries before the concat operation.\n",
            "  df_all = pd.concat([df_train, df_test])\n"
          ]
        },
        {
          "output_type": "stream",
          "name": "stdout",
          "text": [
            "Processing activity_3\n",
            "Embeddings and labels are aligned\n",
            "(1357,)\n"
          ]
        },
        {
          "output_type": "stream",
          "name": "stderr",
          "text": [
            "/content/EvolvePro/evolvepro/src/model.py:198: FutureWarning: The behavior of DataFrame concatenation with empty or all-NA entries is deprecated. In a future version, this will no longer exclude empty or all-NA columns when determining the result dtypes. To retain the old behavior, exclude the relevant entries before the concat operation.\n",
            "  df_all = pd.concat([df_train, df_test])\n"
          ]
        },
        {
          "output_type": "stream",
          "name": "stdout",
          "text": [
            "Processing activity_4\n",
            "Embeddings and labels are aligned\n",
            "(1357,)\n",
            "\n",
            "Tested variants in this round: 12\n",
            "50      I36D\n",
            "310     T58E\n",
            "429      E4M\n",
            "519      K3F\n",
            "531     V31C\n",
            "557     G38E\n",
            "573     Q10P\n",
            "632     R23K\n",
            "770     D61W\n",
            "835     R23N\n",
            "1128     I7A\n",
            "1355     E4Y\n",
            "Name: variant, dtype: object\n",
            "\n",
            "Top 12 variants predicted by the model:\n",
            "    variant  Sum_rank\n",
            "348    R23N     435.0\n",
            "105    P59C     722.0\n",
            "8      R72C     804.0\n",
            "198    R41H     955.0\n",
            "257    G65N     955.0\n",
            "22     R70C     957.0\n",
            "1       E4M     973.0\n",
            "79     V55C     992.0\n",
            "64     E27N     999.0\n",
            "269    R72H    1105.0\n",
            "411    R66H    1120.0\n",
            "309    R70H    1191.0\n",
            "\n",
            "Data saved to /content/output/kelsic/Round1\n"
          ]
        },
        {
          "output_type": "stream",
          "name": "stderr",
          "text": [
            "/content/EvolvePro/evolvepro/src/model.py:198: FutureWarning: The behavior of DataFrame concatenation with empty or all-NA entries is deprecated. In a future version, this will no longer exclude empty or all-NA columns when determining the result dtypes. To retain the old behavior, exclude the relevant entries before the concat operation.\n",
            "  df_all = pd.concat([df_train, df_test])\n"
          ]
        }
      ],
      "source": [
        "round_name = 'Round1'\n",
        "round_file_names = [f'{protein_name}_Round1_aug.xlsx']\n",
        "activity_opt = {'activity_0': 'max',\n",
        "                 'activity_1': 'max',\n",
        "                 'activity_2': 'max',\n",
        "                 'activity_3': 'min',\n",
        "                 'activity_4': 'min'}\n",
        "\n",
        "this_round_variants, df_test, df_sorted_all = mh_evolve_experimental(\n",
        "    protein_name,\n",
        "    round_name,\n",
        "    embeddings_base_path,\n",
        "    embeddings_file_name,\n",
        "    round_base_path,\n",
        "    round_file_names,\n",
        "    wt_fasta_path,\n",
        "    rename_WT,\n",
        "    number_of_variants,\n",
        "    activity_opt,\n",
        "    output_dir,\n",
        ")"
      ]
    },
    {
      "cell_type": "markdown",
      "metadata": {
        "id": "hp1LcEwY1nrS"
      },
      "source": [
        "#### Round 2"
      ]
    },
    {
      "cell_type": "code",
      "execution_count": 27,
      "metadata": {
        "colab": {
          "base_uri": "https://localhost:8080/"
        },
        "id": "twLZxKaOyj4X",
        "outputId": "9b11eaf4-fc49-4902-fde8-e5ff820f41b4"
      },
      "outputs": [
        {
          "output_type": "stream",
          "name": "stdout",
          "text": [
            "Processing activity_0\n",
            "Embeddings and labels are aligned\n",
            "(1345,)\n"
          ]
        },
        {
          "output_type": "stream",
          "name": "stderr",
          "text": [
            "/content/EvolvePro/evolvepro/src/model.py:198: FutureWarning: The behavior of DataFrame concatenation with empty or all-NA entries is deprecated. In a future version, this will no longer exclude empty or all-NA columns when determining the result dtypes. To retain the old behavior, exclude the relevant entries before the concat operation.\n",
            "  df_all = pd.concat([df_train, df_test])\n"
          ]
        },
        {
          "output_type": "stream",
          "name": "stdout",
          "text": [
            "Processing activity_1\n",
            "Embeddings and labels are aligned\n",
            "(1345,)\n"
          ]
        },
        {
          "output_type": "stream",
          "name": "stderr",
          "text": [
            "/content/EvolvePro/evolvepro/src/model.py:198: FutureWarning: The behavior of DataFrame concatenation with empty or all-NA entries is deprecated. In a future version, this will no longer exclude empty or all-NA columns when determining the result dtypes. To retain the old behavior, exclude the relevant entries before the concat operation.\n",
            "  df_all = pd.concat([df_train, df_test])\n"
          ]
        },
        {
          "output_type": "stream",
          "name": "stdout",
          "text": [
            "Processing activity_2\n",
            "Embeddings and labels are aligned\n",
            "(1345,)\n"
          ]
        },
        {
          "output_type": "stream",
          "name": "stderr",
          "text": [
            "/content/EvolvePro/evolvepro/src/model.py:198: FutureWarning: The behavior of DataFrame concatenation with empty or all-NA entries is deprecated. In a future version, this will no longer exclude empty or all-NA columns when determining the result dtypes. To retain the old behavior, exclude the relevant entries before the concat operation.\n",
            "  df_all = pd.concat([df_train, df_test])\n"
          ]
        },
        {
          "output_type": "stream",
          "name": "stdout",
          "text": [
            "Processing activity_3\n",
            "Embeddings and labels are aligned\n",
            "(1345,)\n"
          ]
        },
        {
          "output_type": "stream",
          "name": "stderr",
          "text": [
            "/content/EvolvePro/evolvepro/src/model.py:198: FutureWarning: The behavior of DataFrame concatenation with empty or all-NA entries is deprecated. In a future version, this will no longer exclude empty or all-NA columns when determining the result dtypes. To retain the old behavior, exclude the relevant entries before the concat operation.\n",
            "  df_all = pd.concat([df_train, df_test])\n"
          ]
        },
        {
          "output_type": "stream",
          "name": "stdout",
          "text": [
            "Processing activity_4\n",
            "Embeddings and labels are aligned\n",
            "(1345,)\n",
            "\n",
            "Tested variants in this round: 24\n",
            "50      I36D\n",
            "169     S71C\n",
            "278      E4H\n",
            "305      E4V\n",
            "310     T58E\n",
            "429      E4M\n",
            "455      E4L\n",
            "457      E8Q\n",
            "519      K3F\n",
            "531     V31C\n",
            "557     G38E\n",
            "573     Q10P\n",
            "632     R23K\n",
            "645      E4N\n",
            "679      E4F\n",
            "732     T12M\n",
            "754     T12C\n",
            "770     D61W\n",
            "835     R23N\n",
            "853      E4Q\n",
            "992      D5M\n",
            "1009     E8C\n",
            "1128     I7A\n",
            "1355     E4Y\n",
            "Name: variant, dtype: object\n",
            "\n",
            "Top 12 variants predicted by the model:\n",
            "    variant  Sum_rank\n",
            "274    R23N     572.0\n",
            "4       E4M    1248.0\n",
            "2       E4N    1249.0\n",
            "13      E4Q    1263.0\n",
            "0       E4F    1318.0\n",
            "9      E27T    1415.0\n",
            "20     V31C    1426.0\n",
            "323    R72N    1469.0\n",
            "426    G65Q    1470.0\n",
            "180    I45C    1472.0\n",
            "16     E27N    1519.0\n",
            "267     I7N    1534.0\n",
            "\n",
            "Data saved to /content/output/kelsic/Round2\n"
          ]
        },
        {
          "output_type": "stream",
          "name": "stderr",
          "text": [
            "/content/EvolvePro/evolvepro/src/model.py:198: FutureWarning: The behavior of DataFrame concatenation with empty or all-NA entries is deprecated. In a future version, this will no longer exclude empty or all-NA columns when determining the result dtypes. To retain the old behavior, exclude the relevant entries before the concat operation.\n",
            "  df_all = pd.concat([df_train, df_test])\n"
          ]
        }
      ],
      "source": [
        "round_name = 'Round2'\n",
        "round_file_names = [f'{protein_name}_Round1_aug.xlsx', f'{protein_name}_Round2_aug.xlsx']\n",
        "\n",
        "this_round_variants, df_test, df_sorted_all = mh_evolve_experimental(\n",
        "    protein_name,\n",
        "    round_name,\n",
        "    embeddings_base_path,\n",
        "    embeddings_file_name,\n",
        "    round_base_path,\n",
        "    round_file_names,\n",
        "    wt_fasta_path,\n",
        "    rename_WT,\n",
        "    number_of_variants,\n",
        "    activity_opt,\n",
        "    output_dir,\n",
        ")"
      ]
    },
    {
      "cell_type": "markdown",
      "metadata": {
        "id": "B4EPm84C1pS8"
      },
      "source": [
        "#### Round 3"
      ]
    },
    {
      "cell_type": "code",
      "execution_count": 28,
      "metadata": {
        "colab": {
          "base_uri": "https://localhost:8080/"
        },
        "id": "kz5fPRMJy7Dk",
        "outputId": "12f32283-9c07-478c-db7a-bdf6a6c6d5d0"
      },
      "outputs": [
        {
          "output_type": "stream",
          "name": "stdout",
          "text": [
            "Processing activity_0\n",
            "Embeddings and labels are aligned\n",
            "(1333,)\n"
          ]
        },
        {
          "output_type": "stream",
          "name": "stderr",
          "text": [
            "/content/EvolvePro/evolvepro/src/model.py:198: FutureWarning: The behavior of DataFrame concatenation with empty or all-NA entries is deprecated. In a future version, this will no longer exclude empty or all-NA columns when determining the result dtypes. To retain the old behavior, exclude the relevant entries before the concat operation.\n",
            "  df_all = pd.concat([df_train, df_test])\n"
          ]
        },
        {
          "output_type": "stream",
          "name": "stdout",
          "text": [
            "Processing activity_1\n",
            "Embeddings and labels are aligned\n",
            "(1333,)\n"
          ]
        },
        {
          "output_type": "stream",
          "name": "stderr",
          "text": [
            "/content/EvolvePro/evolvepro/src/model.py:198: FutureWarning: The behavior of DataFrame concatenation with empty or all-NA entries is deprecated. In a future version, this will no longer exclude empty or all-NA columns when determining the result dtypes. To retain the old behavior, exclude the relevant entries before the concat operation.\n",
            "  df_all = pd.concat([df_train, df_test])\n"
          ]
        },
        {
          "output_type": "stream",
          "name": "stdout",
          "text": [
            "Processing activity_2\n",
            "Embeddings and labels are aligned\n",
            "(1333,)\n"
          ]
        },
        {
          "output_type": "stream",
          "name": "stderr",
          "text": [
            "/content/EvolvePro/evolvepro/src/model.py:198: FutureWarning: The behavior of DataFrame concatenation with empty or all-NA entries is deprecated. In a future version, this will no longer exclude empty or all-NA columns when determining the result dtypes. To retain the old behavior, exclude the relevant entries before the concat operation.\n",
            "  df_all = pd.concat([df_train, df_test])\n"
          ]
        },
        {
          "output_type": "stream",
          "name": "stdout",
          "text": [
            "Processing activity_3\n",
            "Embeddings and labels are aligned\n",
            "(1333,)\n"
          ]
        },
        {
          "output_type": "stream",
          "name": "stderr",
          "text": [
            "/content/EvolvePro/evolvepro/src/model.py:198: FutureWarning: The behavior of DataFrame concatenation with empty or all-NA entries is deprecated. In a future version, this will no longer exclude empty or all-NA columns when determining the result dtypes. To retain the old behavior, exclude the relevant entries before the concat operation.\n",
            "  df_all = pd.concat([df_train, df_test])\n"
          ]
        },
        {
          "output_type": "stream",
          "name": "stdout",
          "text": [
            "Processing activity_4\n",
            "Embeddings and labels are aligned\n",
            "(1333,)\n",
            "\n",
            "Tested variants in this round: 36\n",
            "50      I36D\n",
            "169     S71C\n",
            "174      E4W\n",
            "198      D5V\n",
            "223      D5L\n",
            "278      E4H\n",
            "282      D5Y\n",
            "305      E4V\n",
            "310     T58E\n",
            "363      D5N\n",
            "429      E4M\n",
            "455      E4L\n",
            "457      E8Q\n",
            "519      K3F\n",
            "531     V31C\n",
            "557     G38E\n",
            "564      E4C\n",
            "568      E4I\n",
            "573     Q10P\n",
            "632     R23K\n",
            "645      E4N\n",
            "679      E4F\n",
            "732     T12M\n",
            "754     T12C\n",
            "770     D61W\n",
            "835     R23N\n",
            "838     E25Q\n",
            "853      E4Q\n",
            "933      M1W\n",
            "971      D5C\n",
            "992      D5M\n",
            "1009     E8C\n",
            "1051     D5F\n",
            "1064     D5I\n",
            "1128     I7A\n",
            "1355     E4Y\n",
            "Name: variant, dtype: object\n",
            "\n",
            "Top 12 variants predicted by the model:\n",
            "    variant  Sum_rank\n",
            "0       D5F     554.0\n",
            "720    R23N    1102.0\n",
            "17      E4M    1180.0\n",
            "18      E4Q    1204.0\n",
            "193    D61T    1221.0\n",
            "1       D5I    1228.0\n",
            "61     D61H    1247.0\n",
            "397    D61Q    1273.0\n",
            "415    V55H    1290.0\n",
            "6       D5L    1293.0\n",
            "40     E27N    1308.0\n",
            "14      D5Q    1323.0\n",
            "\n",
            "Data saved to /content/output/kelsic/Round3\n"
          ]
        },
        {
          "output_type": "stream",
          "name": "stderr",
          "text": [
            "/content/EvolvePro/evolvepro/src/model.py:198: FutureWarning: The behavior of DataFrame concatenation with empty or all-NA entries is deprecated. In a future version, this will no longer exclude empty or all-NA columns when determining the result dtypes. To retain the old behavior, exclude the relevant entries before the concat operation.\n",
            "  df_all = pd.concat([df_train, df_test])\n"
          ]
        }
      ],
      "source": [
        "round_name = 'Round3'\n",
        "round_file_names = [f'{protein_name}_Round1_aug.xlsx', f'{protein_name}_Round2_aug.xlsx',\n",
        "                    f'{protein_name}_Round3_aug.xlsx']\n",
        "\n",
        "this_round_variants, df_test, df_sorted_all = mh_evolve_experimental(\n",
        "    protein_name,\n",
        "    round_name,\n",
        "    embeddings_base_path,\n",
        "    embeddings_file_name,\n",
        "    round_base_path,\n",
        "    round_file_names,\n",
        "    wt_fasta_path,\n",
        "    rename_WT,\n",
        "    number_of_variants,\n",
        "    activity_opt,\n",
        "    output_dir,\n",
        ")"
      ]
    },
    {
      "cell_type": "markdown",
      "metadata": {
        "id": "uzKvCWGX1qxB"
      },
      "source": [
        "#### Round 4"
      ]
    },
    {
      "cell_type": "code",
      "execution_count": 29,
      "metadata": {
        "colab": {
          "base_uri": "https://localhost:8080/"
        },
        "id": "w8zWK7IlzOwB",
        "outputId": "dac04139-b8f7-4795-debe-4db832c039b9"
      },
      "outputs": [
        {
          "output_type": "stream",
          "name": "stdout",
          "text": [
            "Processing activity_0\n",
            "Embeddings and labels are aligned\n",
            "(1321,)\n"
          ]
        },
        {
          "output_type": "stream",
          "name": "stderr",
          "text": [
            "/content/EvolvePro/evolvepro/src/model.py:198: FutureWarning: The behavior of DataFrame concatenation with empty or all-NA entries is deprecated. In a future version, this will no longer exclude empty or all-NA columns when determining the result dtypes. To retain the old behavior, exclude the relevant entries before the concat operation.\n",
            "  df_all = pd.concat([df_train, df_test])\n"
          ]
        },
        {
          "output_type": "stream",
          "name": "stdout",
          "text": [
            "Processing activity_1\n",
            "Embeddings and labels are aligned\n",
            "(1321,)\n"
          ]
        },
        {
          "output_type": "stream",
          "name": "stderr",
          "text": [
            "/content/EvolvePro/evolvepro/src/model.py:198: FutureWarning: The behavior of DataFrame concatenation with empty or all-NA entries is deprecated. In a future version, this will no longer exclude empty or all-NA columns when determining the result dtypes. To retain the old behavior, exclude the relevant entries before the concat operation.\n",
            "  df_all = pd.concat([df_train, df_test])\n"
          ]
        },
        {
          "output_type": "stream",
          "name": "stdout",
          "text": [
            "Processing activity_2\n",
            "Embeddings and labels are aligned\n",
            "(1321,)\n"
          ]
        },
        {
          "output_type": "stream",
          "name": "stderr",
          "text": [
            "/content/EvolvePro/evolvepro/src/model.py:198: FutureWarning: The behavior of DataFrame concatenation with empty or all-NA entries is deprecated. In a future version, this will no longer exclude empty or all-NA columns when determining the result dtypes. To retain the old behavior, exclude the relevant entries before the concat operation.\n",
            "  df_all = pd.concat([df_train, df_test])\n"
          ]
        },
        {
          "output_type": "stream",
          "name": "stdout",
          "text": [
            "Processing activity_3\n",
            "Embeddings and labels are aligned\n",
            "(1321,)\n"
          ]
        },
        {
          "output_type": "stream",
          "name": "stderr",
          "text": [
            "/content/EvolvePro/evolvepro/src/model.py:198: FutureWarning: The behavior of DataFrame concatenation with empty or all-NA entries is deprecated. In a future version, this will no longer exclude empty or all-NA columns when determining the result dtypes. To retain the old behavior, exclude the relevant entries before the concat operation.\n",
            "  df_all = pd.concat([df_train, df_test])\n"
          ]
        },
        {
          "output_type": "stream",
          "name": "stdout",
          "text": [
            "Processing activity_4\n",
            "Embeddings and labels are aligned\n",
            "(1321,)\n",
            "\n",
            "Tested variants in this round: 48\n",
            "50      I36D\n",
            "101      E4T\n",
            "169     S71C\n",
            "174      E4W\n",
            "198      D5V\n",
            "223      D5L\n",
            "278      E4H\n",
            "282      D5Y\n",
            "305      E4V\n",
            "310     T58E\n",
            "317     M21L\n",
            "352      D5H\n",
            "363      D5N\n",
            "429      E4M\n",
            "455      E4L\n",
            "457      E8Q\n",
            "487     E27M\n",
            "519      K3F\n",
            "531     V31C\n",
            "557     G38E\n",
            "564      E4C\n",
            "568      E4I\n",
            "570     E27C\n",
            "573     Q10P\n",
            "612      D5S\n",
            "618      D5A\n",
            "632     R23K\n",
            "645      E4N\n",
            "679      E4F\n",
            "707     V24I\n",
            "732     T12M\n",
            "754     T12C\n",
            "770     D61W\n",
            "835     R23N\n",
            "838     E25Q\n",
            "849      D5T\n",
            "853      E4Q\n",
            "874      D5Q\n",
            "933      M1W\n",
            "971      D5C\n",
            "992      D5M\n",
            "1009     E8C\n",
            "1051     D5F\n",
            "1064     D5I\n",
            "1074    E27Q\n",
            "1109    E27L\n",
            "1128     I7A\n",
            "1355     E4Y\n",
            "Name: variant, dtype: object\n",
            "\n",
            "Top 12 variants predicted by the model:\n",
            "    variant  Sum_rank\n",
            "1       D5F     276.0\n",
            "433    R23N     634.0\n",
            "26      E4Q     835.0\n",
            "16      E4M     909.0\n",
            "2       D5I     990.0\n",
            "14      E4Y    1133.0\n",
            "43      E4K    1153.0\n",
            "359    R66H    1185.0\n",
            "114    S63H    1198.0\n",
            "256    P18H    1230.0\n",
            "522    R41H    1276.0\n",
            "67      E8T    1338.0\n",
            "\n",
            "Data saved to /content/output/kelsic/Round4\n"
          ]
        },
        {
          "output_type": "stream",
          "name": "stderr",
          "text": [
            "/content/EvolvePro/evolvepro/src/model.py:198: FutureWarning: The behavior of DataFrame concatenation with empty or all-NA entries is deprecated. In a future version, this will no longer exclude empty or all-NA columns when determining the result dtypes. To retain the old behavior, exclude the relevant entries before the concat operation.\n",
            "  df_all = pd.concat([df_train, df_test])\n"
          ]
        }
      ],
      "source": [
        "round_name = 'Round4'\n",
        "round_file_names = [f'{protein_name}_Round1_aug.xlsx', f'{protein_name}_Round2_aug.xlsx',\n",
        "                    f'{protein_name}_Round3_aug.xlsx', f'{protein_name}_Round4_aug.xlsx']\n",
        "\n",
        "this_round_variants, df_test, df_sorted_all = mh_evolve_experimental(\n",
        "    protein_name,\n",
        "    round_name,\n",
        "    embeddings_base_path,\n",
        "    embeddings_file_name,\n",
        "    round_base_path,\n",
        "    round_file_names,\n",
        "    wt_fasta_path,\n",
        "    rename_WT,\n",
        "    number_of_variants,\n",
        "    activity_opt,\n",
        "    output_dir,\n",
        ")"
      ]
    },
    {
      "cell_type": "markdown",
      "metadata": {
        "id": "qDPcYiLY1tZl"
      },
      "source": [
        "#### Round 5"
      ]
    },
    {
      "cell_type": "code",
      "execution_count": 30,
      "metadata": {
        "colab": {
          "base_uri": "https://localhost:8080/"
        },
        "id": "nruFZ5a4ziFl",
        "outputId": "bb8b0489-ca95-4c57-e9f9-f6244780542d"
      },
      "outputs": [
        {
          "output_type": "stream",
          "name": "stdout",
          "text": [
            "Processing activity_0\n",
            "Embeddings and labels are aligned\n",
            "(1309,)\n"
          ]
        },
        {
          "output_type": "stream",
          "name": "stderr",
          "text": [
            "/content/EvolvePro/evolvepro/src/model.py:198: FutureWarning: The behavior of DataFrame concatenation with empty or all-NA entries is deprecated. In a future version, this will no longer exclude empty or all-NA columns when determining the result dtypes. To retain the old behavior, exclude the relevant entries before the concat operation.\n",
            "  df_all = pd.concat([df_train, df_test])\n"
          ]
        },
        {
          "output_type": "stream",
          "name": "stdout",
          "text": [
            "Processing activity_1\n",
            "Embeddings and labels are aligned\n",
            "(1309,)\n"
          ]
        },
        {
          "output_type": "stream",
          "name": "stderr",
          "text": [
            "/content/EvolvePro/evolvepro/src/model.py:198: FutureWarning: The behavior of DataFrame concatenation with empty or all-NA entries is deprecated. In a future version, this will no longer exclude empty or all-NA columns when determining the result dtypes. To retain the old behavior, exclude the relevant entries before the concat operation.\n",
            "  df_all = pd.concat([df_train, df_test])\n"
          ]
        },
        {
          "output_type": "stream",
          "name": "stdout",
          "text": [
            "Processing activity_2\n",
            "Embeddings and labels are aligned\n",
            "(1309,)\n"
          ]
        },
        {
          "output_type": "stream",
          "name": "stderr",
          "text": [
            "/content/EvolvePro/evolvepro/src/model.py:198: FutureWarning: The behavior of DataFrame concatenation with empty or all-NA entries is deprecated. In a future version, this will no longer exclude empty or all-NA columns when determining the result dtypes. To retain the old behavior, exclude the relevant entries before the concat operation.\n",
            "  df_all = pd.concat([df_train, df_test])\n"
          ]
        },
        {
          "output_type": "stream",
          "name": "stdout",
          "text": [
            "Processing activity_3\n",
            "Embeddings and labels are aligned\n",
            "(1309,)\n"
          ]
        },
        {
          "output_type": "stream",
          "name": "stderr",
          "text": [
            "/content/EvolvePro/evolvepro/src/model.py:198: FutureWarning: The behavior of DataFrame concatenation with empty or all-NA entries is deprecated. In a future version, this will no longer exclude empty or all-NA columns when determining the result dtypes. To retain the old behavior, exclude the relevant entries before the concat operation.\n",
            "  df_all = pd.concat([df_train, df_test])\n"
          ]
        },
        {
          "output_type": "stream",
          "name": "stdout",
          "text": [
            "Processing activity_4\n",
            "Embeddings and labels are aligned\n",
            "(1309,)\n",
            "\n",
            "Tested variants in this round: 60\n",
            "50      I36D\n",
            "75      V55I\n",
            "101      E4T\n",
            "169     S71C\n",
            "174      E4W\n",
            "198      D5V\n",
            "223      D5L\n",
            "278      E4H\n",
            "282      D5Y\n",
            "305      E4V\n",
            "310     T58E\n",
            "317     M21L\n",
            "352      D5H\n",
            "363      D5N\n",
            "429      E4M\n",
            "455      E4L\n",
            "457      E8Q\n",
            "487     E27M\n",
            "519      K3F\n",
            "531     V31C\n",
            "540     S71K\n",
            "557     G38E\n",
            "564      E4C\n",
            "568      E4I\n",
            "570     E27C\n",
            "573     Q10P\n",
            "612      D5S\n",
            "614      E8H\n",
            "618      D5A\n",
            "632     R23K\n",
            "645      E4N\n",
            "679      E4F\n",
            "691      E4S\n",
            "707     V24I\n",
            "726     T20H\n",
            "732     T12M\n",
            "753      E4P\n",
            "754     T12C\n",
            "770     D61W\n",
            "829     Q10H\n",
            "835     R23N\n",
            "838     E25Q\n",
            "840      E4A\n",
            "849      D5T\n",
            "853      E4Q\n",
            "874      D5Q\n",
            "933      M1W\n",
            "956      D5W\n",
            "963      E8F\n",
            "971      D5C\n",
            "992      D5M\n",
            "1009     E8C\n",
            "1051     D5F\n",
            "1064     D5I\n",
            "1074    E27Q\n",
            "1109    E27L\n",
            "1128     I7A\n",
            "1234     D5P\n",
            "1308     E8K\n",
            "1355     E4Y\n",
            "Name: variant, dtype: object\n",
            "\n",
            "Top 12 variants predicted by the model:\n",
            "    variant  Sum_rank\n",
            "1       D5F     506.0\n",
            "16      E4Q     800.0\n",
            "139     E4K     842.0\n",
            "2       D5I    1073.0\n",
            "748     D5W    1111.0\n",
            "15      E4M    1150.0\n",
            "56     V68K    1162.0\n",
            "484    I67K    1219.0\n",
            "562    R23N    1290.0\n",
            "10      E4Y    1337.0\n",
            "8       E4F    1338.0\n",
            "171    E27N    1367.0\n",
            "\n",
            "Data saved to /content/output/kelsic/Round5\n"
          ]
        },
        {
          "output_type": "stream",
          "name": "stderr",
          "text": [
            "/content/EvolvePro/evolvepro/src/model.py:198: FutureWarning: The behavior of DataFrame concatenation with empty or all-NA entries is deprecated. In a future version, this will no longer exclude empty or all-NA columns when determining the result dtypes. To retain the old behavior, exclude the relevant entries before the concat operation.\n",
            "  df_all = pd.concat([df_train, df_test])\n"
          ]
        }
      ],
      "source": [
        "round_name = 'Round5'\n",
        "round_file_names = [f'{protein_name}_Round1_aug.xlsx', f'{protein_name}_Round2_aug.xlsx',\n",
        "                    f'{protein_name}_Round3_aug.xlsx', f'{protein_name}_Round4_aug.xlsx',\n",
        "                    f'{protein_name}_Round5_aug.xlsx']\n",
        "\n",
        "this_round_variants, df_test, df_sorted_all = mh_evolve_experimental(\n",
        "    protein_name,\n",
        "    round_name,\n",
        "    embeddings_base_path,\n",
        "    embeddings_file_name,\n",
        "    round_base_path,\n",
        "    round_file_names,\n",
        "    wt_fasta_path,\n",
        "    rename_WT,\n",
        "    number_of_variants,\n",
        "    activity_opt,\n",
        "    output_dir,\n",
        ")"
      ]
    },
    {
      "cell_type": "markdown",
      "metadata": {
        "id": "OHa2wEsxspa6"
      },
      "source": [
        "## Round 6"
      ]
    },
    {
      "cell_type": "code",
      "execution_count": 31,
      "metadata": {
        "colab": {
          "base_uri": "https://localhost:8080/"
        },
        "id": "aqHV2dfmspa7",
        "outputId": "47790435-180c-4c52-b2dd-64ab86e62f64"
      },
      "outputs": [
        {
          "output_type": "stream",
          "name": "stdout",
          "text": [
            "wt> MAKEDNIEMQGTVLETLPNTMFRVELENGHVVTAHISGKMRKNYIRILTGDKVTVELTPYDLSKGRIVFRSR\n",
            "                              *\n",
            "mt> MAKEDNIEMQGTVLETLPNTMFRVELQNGHVVTAHISGKMRKNYIRILTGDKVTVELTPYDLSKGRIVFRSR\n"
          ]
        }
      ],
      "source": [
        "best_mutant = 'E25Q'\n",
        "\n",
        "## Generate mutant string\n",
        "mut_protein_sequence = None\n",
        "str_pos = int(best_mutant[1:-1])+1\n",
        "if wt_protein_sequence[str_pos] != best_mutant[0]:\n",
        "    raise AttributeError('Mutant not formatted correctly or not in sequence')\n",
        "else:\n",
        "    mut_protein_sequence = wt_protein_sequence[:str_pos] + best_mutant[-1] + wt_protein_sequence[str_pos+1:]\n",
        "\n",
        "print(f'wt> {wt_protein_sequence}')\n",
        "print(' ' * (str_pos + 4) + '*')\n",
        "print(f'mt> {mut_protein_sequence}')"
      ]
    },
    {
      "cell_type": "code",
      "execution_count": 38,
      "metadata": {
        "colab": {
          "base_uri": "https://localhost:8080/"
        },
        "id": "eYLwg58rspa8",
        "outputId": "958a0d78-a444-43d4-c5e8-ff752af1afd1"
      },
      "outputs": [
        {
          "output_type": "stream",
          "name": "stdout",
          "text": [
            "Number of mutants: 1369\n",
            "Extracting embeddings...\n"
          ]
        },
        {
          "output_type": "execute_result",
          "data": {
            "text/plain": [
              "0"
            ]
          },
          "metadata": {},
          "execution_count": 38
        }
      ],
      "source": [
        "## Make 2ndary embeddings from best mutant\n",
        "from evolvepro.src.evolve import evolve_experimental_multi\n",
        "from evolvepro.src.process import generate_wt, generate_single_aa_mutants\n",
        "\n",
        "## Define sequence\n",
        "mut_protein_name = f'kelsic_{best_mutant}'\n",
        "\n",
        "## Define file outpaths\n",
        "mwt_fasta_path = f'/content/output/{mut_protein_name}_WT.fasta'\n",
        "mmut_fasta_path = f'/content/output/{mut_protein_name}.fasta'\n",
        "\n",
        "## Process sequence\n",
        "generate_wt(mut_protein_sequence, output_file=mwt_fasta_path)\n",
        "generate_single_aa_mutants(mwt_fasta_path, output_file=mmut_fasta_path)\n",
        "\n",
        "## Extract mean embeddings\n",
        "print('Extracting embeddings...')\n",
        "embeddings_file_lead = f'{mut_protein_name}_{model_name}_round6'\n",
        "embeddings_base_path = '/content/output'\n",
        "os.system(f'python evolvepro/plm/esm/extract.py {model_name} {mmut_fasta_path} {embeddings_base_path}/{embeddings_file_lead} --toks_per_batch 512 --include mean --concatenate_dir {embeddings_base_path}')\n"
      ]
    },
    {
      "cell_type": "code",
      "execution_count": 39,
      "metadata": {
        "id": "fpD5wvFZspa8"
      },
      "outputs": [],
      "source": [
        "'''Remove print statements and add prefix to multi variants with updated labelling'''\n",
        "def evolve_experimental_multi(\n",
        "    protein_name: str,\n",
        "    round_name: str,\n",
        "    embeddings_base_path: str,\n",
        "    embeddings_file_names: List[str],\n",
        "    round_base_path: str,\n",
        "    round_file_names_single: List[str],\n",
        "    round_file_names_multi: List[str],\n",
        "    wt_fasta_path: str,\n",
        "    rename_WT: bool = False,\n",
        "    number_of_variants: int = 12,\n",
        "    output_dir: str = '/orcd/archive/abugoot/001/Projects/Matteo/Github/EvolvePro/output/exp_results/'\n",
        ") -> Tuple[pd.DataFrame, pd.DataFrame, pd.DataFrame]:\n",
        "    \"\"\"\n",
        "    Perform one round of directed evolution for a protein with multi-mutant support.\n",
        "    \"\"\"\n",
        "    print(f\"Processing {protein_name} - {round_name}\")\n",
        "\n",
        "    # Load and concatenate multiple embedding files\n",
        "    embeddings_list = []\n",
        "    for i, file_name in enumerate(embeddings_file_names):\n",
        "        embedding = load_experimental_embeddings(embeddings_base_path, file_name, rename_WT)\n",
        "        if i > 0:  # If not the first file\n",
        "            embedding.index = [f'mut{i}_' + ei for ei in list(embedding.index)]\n",
        "        embeddings_list.append(embedding)\n",
        "\n",
        "    embeddings = pd.concat(embeddings_list)\n",
        "    print(f\"Embeddings loaded: {embeddings.shape}\")\n",
        "\n",
        "    # Load experimental data\n",
        "    all_experimental_data = []\n",
        "    for round_file_name in round_file_names_single:\n",
        "        experimental_data = load_experimental_data(round_base_path, round_file_name, wt_fasta_path, single_mutant=True)\n",
        "        all_experimental_data.append(experimental_data)\n",
        "        print(f\"Loaded experimental data for {round_file_name}: {experimental_data.shape}\")\n",
        "\n",
        "    for ri, round_file_name in enumerate(round_file_names_multi):\n",
        "        experimental_data = load_experimental_data(round_base_path, round_file_name, wt_fasta_path, single_mutant=True)\n",
        "        experimental_data['updated_variant'] = f'mut{ri}' + experimental_data['updated_variant']\n",
        "        all_experimental_data.append(experimental_data)\n",
        "        print(f\"Loaded experimental data for {round_file_name}: {experimental_data.shape}\")\n",
        "\n",
        "    all_experimental_data = [pd.concat(all_experimental_data)]\n",
        "\n",
        "    # Create iteration dataframes\n",
        "    iteration, labels = create_iteration_dataframes(all_experimental_data, embeddings.index)\n",
        "\n",
        "    # Perform top layer analysis\n",
        "    this_round_variants, df_test, df_sorted_all = top_layer(\n",
        "        iter_train=iteration['iteration'].unique().tolist(),\n",
        "        iter_test=None,\n",
        "        embeddings_pd=embeddings,\n",
        "        labels_pd=labels,\n",
        "        measured_var='activity',\n",
        "        regression_type='randomforest',\n",
        "        experimental=True\n",
        "    )\n",
        "\n",
        "    # Save results if an output_dir is provided\n",
        "    if output_dir is not None:\n",
        "        output_dir = os.path.join(output_dir, protein_name, round_name)\n",
        "        os.makedirs(output_dir, exist_ok=True)\n",
        "        iteration.to_csv(os.path.join(output_dir, 'iteration.csv'))\n",
        "        this_round_variants.to_csv(os.path.join(output_dir, 'this_round_variants.csv'))\n",
        "        df_test = df_test.sort_values(by=['y_pred'], ascending=False)\n",
        "        df_test.to_csv(os.path.join(output_dir, 'df_test.csv'))\n",
        "        df_sorted_all.to_csv(os.path.join(output_dir, 'df_sorted_all.csv'))\n",
        "        print(f\"\\nData saved to {output_dir}\")\n",
        "\n",
        "    return this_round_variants, df_test, df_sorted_all\n",
        "\n",
        "\n",
        "'''Wrapper to run evolve_experimental multiple times for each individual attribute'''\n",
        "def mh_evolve_experimental_multi(\n",
        "        protein_name : str,\n",
        "        round_name : str,\n",
        "        embeddings_base_path : str,\n",
        "        embeddings_file_names: List[str],\n",
        "        round_base_path: str,\n",
        "        round_file_names_single: List[str],\n",
        "        round_file_names_multi: List[str],\n",
        "        wt_fasta_path : str,\n",
        "        rename_WT : bool = False,\n",
        "        number_of_variants : int = 12,\n",
        "        activity_opt : dict = None,\n",
        "        output_dir : str = '/orcd/archive/abugoot/001/Projects/Matteo/Github/EvolvePro/output/exp_results/',\n",
        "    ) -> Tuple[pd.DataFrame, pd.DataFrame, pd.DataFrame]:\n",
        "\n",
        "    ## Export to individual excel files\n",
        "    activities_dir = f'{round_base_path}/activities'\n",
        "    os.makedirs(activities_dir, exist_ok=True)\n",
        "    activities_file_name_dict = {0: {},\n",
        "                                1: {}}\n",
        "    for ri, round_file_names in enumerate([round_file_names_single, round_file_names_multi]):\n",
        "        for round_file_name in round_file_names:\n",
        "            df = pd.read_excel(f'{round_base_path}/{round_file_name}')\n",
        "            activity_cols = [i for i in df.columns if i != 'Variant']\n",
        "            ## Iterate across non-variant columns\n",
        "            for col in activity_cols:\n",
        "                val_df = df[['Variant', col]]\n",
        "                val_df.columns = ['Variant', 'activity']\n",
        "                val_df_filename = f'{round_file_name[:-5]}_{col}.xlsx'\n",
        "                val_df.to_excel(f'{activities_dir}/{val_df_filename}', index=False)\n",
        "                activities_file_name_dict[ri][col] = activities_file_name_dict[col] + [val_df_filename] if col in activities_file_name_dict.keys() else [val_df_filename]\n",
        "\n",
        "    total_dfs = None\n",
        "    for activity in activities_file_name_dict[0].keys():\n",
        "        print(f'Processing {activity}')\n",
        "        ## Get activity filenames\n",
        "        activity_file_names_single = activities_file_name_dict[0][activity]\n",
        "        activity_file_names_multi = activities_file_name_dict[1][activity]\n",
        "\n",
        "        ## Run experimental evolution\n",
        "        this_round_variants, df_test, df_sorted_all = evolve_experimental_multi(\n",
        "        protein_name,\n",
        "        round_name,\n",
        "        embeddings_base_path,\n",
        "        embeddings_file_names,\n",
        "        activities_dir,\n",
        "        activity_file_names_single,\n",
        "        activity_file_names_multi,\n",
        "        wt_fasta_path,\n",
        "        rename_WT,\n",
        "        number_of_variants,\n",
        "        output_dir=None,\n",
        "        )\n",
        "\n",
        "        ## Calculate rank of variant\n",
        "        ascending=False\n",
        "        if activity_opt and activity in activity_opt.keys():\n",
        "            ascending = False if activity_opt[activity] == 'max' else True\n",
        "        if activity_opt and activity not in activity_opt.keys():\n",
        "            print(f'{activity} not in activity_opt. Setting default to \"maximum\" optimization')\n",
        "        df_sorted_all['rank'] = df_sorted_all['y_pred'].rank(ascending=ascending, method='dense')\n",
        "\n",
        "        ## Add to list\n",
        "        total_dfs = pd.concat([total_dfs, df_sorted_all.set_index('variant').add_suffix(f'_{activity}')], axis=1)\n",
        "\n",
        "    ## Calculate combined rank\n",
        "    total_dfs.reset_index(inplace=True)\n",
        "    rank_cols = [i for i in total_dfs.columns if i.__contains__('rank')]\n",
        "    total_dfs['Sum_rank'] = total_dfs[rank_cols].sum(axis=1)\n",
        "    total_dfs = total_dfs.sort_values(by=['Sum_rank'], ascending=True)\n",
        "\n",
        "    # Print results\n",
        "    print(f\"\\nTested variants in this round: {len(this_round_variants)}\")\n",
        "    print(this_round_variants)\n",
        "    print(f\"\\nTop {number_of_variants} variants predicted by the model:\")\n",
        "    print(total_dfs.sort_values(by=['Sum_rank'], ascending=True).head(number_of_variants)[['variant', 'Sum_rank']])\n",
        "\n",
        "    ## make df_test\n",
        "    train_cols = [i for i in total_dfs.columns if i.__contains__('y_actual')]\n",
        "\n",
        "    # Save results if an output_dir is provided\n",
        "    if output_dir is not None:\n",
        "        output_dir = os.path.join(output_dir, protein_name, round_name)\n",
        "        os.makedirs(output_dir, exist_ok=True)\n",
        "        this_round_variants.to_csv(os.path.join(output_dir, 'this_round_variants.csv'))\n",
        "        total_dfs[total_dfs[train_cols].isna()].to_csv(os.path.join(output_dir, 'df_test.csv'))\n",
        "        total_dfs.to_csv(os.path.join(output_dir, 'df_sorted_all.csv'))\n",
        "        print(f\"\\nData saved to {output_dir}\")\n",
        "\n",
        "    return this_round_variants, total_dfs[total_dfs[train_cols].isna()], total_dfs\n"
      ]
    },
    {
      "cell_type": "code",
      "execution_count": 41,
      "metadata": {
        "colab": {
          "base_uri": "https://localhost:8080/"
        },
        "id": "V0vIxvvnspa9",
        "outputId": "96f785ea-2b79-4cf4-edbc-686a5d7959c7"
      },
      "outputs": [
        {
          "output_type": "stream",
          "name": "stdout",
          "text": [
            "Processing activity_0\n",
            "Processing kelsic - Round6\n",
            "Embeddings loaded: (2738, 320)\n",
            "Loaded experimental data for kelsic_Round4_aug_activity_0.xlsx: (12, 3)\n",
            "Loaded experimental data for kelsic_Round5_aug_activity_0.xlsx: (12, 3)\n",
            "Embeddings and labels are aligned\n",
            "(2726,)\n"
          ]
        },
        {
          "output_type": "stream",
          "name": "stderr",
          "text": [
            "/content/EvolvePro/evolvepro/src/model.py:198: FutureWarning: The behavior of DataFrame concatenation with empty or all-NA entries is deprecated. In a future version, this will no longer exclude empty or all-NA columns when determining the result dtypes. To retain the old behavior, exclude the relevant entries before the concat operation.\n",
            "  df_all = pd.concat([df_train, df_test])\n"
          ]
        },
        {
          "output_type": "stream",
          "name": "stdout",
          "text": [
            "Processing activity_1\n",
            "Processing kelsic - Round6\n",
            "Embeddings loaded: (2738, 320)\n",
            "Loaded experimental data for kelsic_Round4_aug_activity_1.xlsx: (12, 3)\n",
            "Loaded experimental data for kelsic_Round5_aug_activity_1.xlsx: (12, 3)\n",
            "Embeddings and labels are aligned\n",
            "(2726,)\n"
          ]
        },
        {
          "output_type": "stream",
          "name": "stderr",
          "text": [
            "/content/EvolvePro/evolvepro/src/model.py:198: FutureWarning: The behavior of DataFrame concatenation with empty or all-NA entries is deprecated. In a future version, this will no longer exclude empty or all-NA columns when determining the result dtypes. To retain the old behavior, exclude the relevant entries before the concat operation.\n",
            "  df_all = pd.concat([df_train, df_test])\n"
          ]
        },
        {
          "output_type": "stream",
          "name": "stdout",
          "text": [
            "Processing activity_2\n",
            "Processing kelsic - Round6\n",
            "Embeddings loaded: (2738, 320)\n",
            "Loaded experimental data for kelsic_Round4_aug_activity_2.xlsx: (12, 3)\n",
            "Loaded experimental data for kelsic_Round5_aug_activity_2.xlsx: (12, 3)\n",
            "Embeddings and labels are aligned\n",
            "(2726,)\n"
          ]
        },
        {
          "output_type": "stream",
          "name": "stderr",
          "text": [
            "/content/EvolvePro/evolvepro/src/model.py:198: FutureWarning: The behavior of DataFrame concatenation with empty or all-NA entries is deprecated. In a future version, this will no longer exclude empty or all-NA columns when determining the result dtypes. To retain the old behavior, exclude the relevant entries before the concat operation.\n",
            "  df_all = pd.concat([df_train, df_test])\n"
          ]
        },
        {
          "output_type": "stream",
          "name": "stdout",
          "text": [
            "Processing activity_3\n",
            "Processing kelsic - Round6\n",
            "Embeddings loaded: (2738, 320)\n",
            "Loaded experimental data for kelsic_Round4_aug_activity_3.xlsx: (12, 3)\n",
            "Loaded experimental data for kelsic_Round5_aug_activity_3.xlsx: (12, 3)\n",
            "Embeddings and labels are aligned\n",
            "(2726,)\n"
          ]
        },
        {
          "output_type": "stream",
          "name": "stderr",
          "text": [
            "/content/EvolvePro/evolvepro/src/model.py:198: FutureWarning: The behavior of DataFrame concatenation with empty or all-NA entries is deprecated. In a future version, this will no longer exclude empty or all-NA columns when determining the result dtypes. To retain the old behavior, exclude the relevant entries before the concat operation.\n",
            "  df_all = pd.concat([df_train, df_test])\n"
          ]
        },
        {
          "output_type": "stream",
          "name": "stdout",
          "text": [
            "Processing activity_4\n",
            "Processing kelsic - Round6\n",
            "Embeddings loaded: (2738, 320)\n",
            "Loaded experimental data for kelsic_Round4_aug_activity_4.xlsx: (12, 3)\n",
            "Loaded experimental data for kelsic_Round5_aug_activity_4.xlsx: (12, 3)\n",
            "Embeddings and labels are aligned\n",
            "(2726,)\n",
            "\n",
            "Tested variants in this round: 12\n",
            "101      E4T\n",
            "317     M21L\n",
            "352      D5H\n",
            "487     E27M\n",
            "570     E27C\n",
            "612      D5S\n",
            "618      D5A\n",
            "707     V24I\n",
            "849      D5T\n",
            "874      D5Q\n",
            "1074    E27Q\n",
            "1109    E27L\n",
            "Name: variant, dtype: object\n",
            "\n",
            "Top 12 variants predicted by the model:\n",
            "        variant  Sum_rank\n",
            "1014       N28K    1294.0\n",
            "1038       N28M    1898.0\n",
            "236         N6H    1947.0\n",
            "587        N28H    2029.0\n",
            "563        S63H    2104.0\n",
            "54         S37H    2214.0\n",
            "1018       N28A    2253.0\n",
            "538        N28E    2357.0\n",
            "338        N19P    2371.0\n",
            "273        F69H    2468.0\n",
            "1649  mut1_N19H    2621.0\n",
            "260        S37R    2713.0\n",
            "\n",
            "Data saved to /content/output/kelsic/Round6\n"
          ]
        },
        {
          "output_type": "stream",
          "name": "stderr",
          "text": [
            "/content/EvolvePro/evolvepro/src/model.py:198: FutureWarning: The behavior of DataFrame concatenation with empty or all-NA entries is deprecated. In a future version, this will no longer exclude empty or all-NA columns when determining the result dtypes. To retain the old behavior, exclude the relevant entries before the concat operation.\n",
            "  df_all = pd.concat([df_train, df_test])\n"
          ]
        }
      ],
      "source": [
        "# Multivariant\n",
        "embeddings_file_name_1 = f'{protein_name}_{model_name}.csv'\n",
        "embeddings_file_name_2 = f'{mut_protein_name}_{model_name}.csv'\n",
        "\n",
        "round_name = 'Round6'\n",
        "round_file_names_single = [f'{protein_name}_Round1_aug.xlsx', f'{protein_name}_Round2_aug.xlsx',\n",
        "                    f'{protein_name}_Round3_aug.xlsx', f'{protein_name}_Round4_aug.xlsx']\n",
        "round_file_names_multi = [f'{protein_name}_Round5_aug.xlsx']\n",
        "\n",
        "rename_WT = True\n",
        "\n",
        "this_round_variants, df_test, df_sorted_all = mh_evolve_experimental_multi(\n",
        "    protein_name,\n",
        "    round_name,\n",
        "    embeddings_base_path,\n",
        "    [embeddings_file_name_1, embeddings_file_name_2],\n",
        "    round_base_path,\n",
        "    round_file_names_single,\n",
        "    round_file_names_multi,\n",
        "    wt_fasta_path,\n",
        "    rename_WT,\n",
        "    number_of_variants,\n",
        "    activity_opt,\n",
        "    output_dir\n",
        ")"
      ]
    },
    {
      "cell_type": "markdown",
      "metadata": {
        "id": "g0YzCWOL1xdF"
      },
      "source": [
        "## Plot"
      ]
    },
    {
      "cell_type": "code",
      "source": [
        "os.getcwd()"
      ],
      "metadata": {
        "colab": {
          "base_uri": "https://localhost:8080/",
          "height": 35
        },
        "id": "ANH-jN4dwJ1s",
        "outputId": "dade1974-016e-462f-fa5a-21a7c40691e4"
      },
      "execution_count": 46,
      "outputs": [
        {
          "output_type": "execute_result",
          "data": {
            "text/plain": [
              "'/content/EvolvePro'"
            ],
            "application/vnd.google.colaboratory.intrinsic+json": {
              "type": "string"
            }
          },
          "metadata": {},
          "execution_count": 46
        }
      ]
    },
    {
      "cell_type": "code",
      "execution_count": 49,
      "metadata": {
        "id": "46D0aZra2ffS"
      },
      "outputs": [],
      "source": [
        "from evolvepro.src.plot import read_exp_data, plot_variants_by_iteration\n",
        "\n",
        "round_base_path = 'colab/rounds_data'\n",
        "round_file_names = [f'{protein_name}_Round1_aug.xlsx', f'{protein_name}_Round2_aug.xlsx',\n",
        "                    f'{protein_name}_Round3_aug.xlsx', f'{protein_name}_Round4_aug.xlsx',\n",
        "                    f'{protein_name}_Round5_aug.xlsx']\n",
        "wt_fasta_path = \"/content/output/kelsic_WT.fasta\""
      ]
    },
    {
      "cell_type": "code",
      "execution_count": 50,
      "metadata": {
        "colab": {
          "base_uri": "https://localhost:8080/",
          "height": 607
        },
        "id": "KyYpI7pr2a1i",
        "outputId": "99dd8dbd-5726-40f1-cc90-fe539e5c4a86"
      },
      "outputs": [
        {
          "output_type": "display_data",
          "data": {
            "text/plain": [
              "<Figure size 1200x600 with 1 Axes>"
            ],
            "image/png": "[encoded data removed]"
          },
          "metadata": {}
        }
      ],
      "source": [
        "df = read_exp_data(round_base_path, round_file_names, wt_fasta_path)\n",
        "plot_variants_by_iteration(df, activity_column='activity_0', output_dir=output_dir, output_file=\"kelsic\")\n"
      ]
    },
    {
      "cell_type": "code",
      "execution_count": 51,
      "metadata": {
        "colab": {
          "base_uri": "https://localhost:8080/",
          "height": 467
        },
        "id": "KZY1u1vKspa_",
        "outputId": "b22556f3-743d-4fb0-8311-c3f7d6f79917"
      },
      "outputs": [
        {
          "output_type": "execute_result",
          "data": {
            "text/plain": [
              "Text(0.5, 0, 'EvolvePRO Round')"
            ]
          },
          "metadata": {},
          "execution_count": 51
        },
        {
          "output_type": "display_data",
          "data": {
            "text/plain": [
              "<Figure size 640x480 with 1 Axes>"
            ],
            "image/png": "[encoded data removed]"
          },
          "metadata": {}
        }
      ],
      "source": [
        "import seaborn as sns\n",
        "import matplotlib as mpl\n",
        "import matplotlib.pyplot as plt\n",
        "\n",
        "## Calculate % high activity variants\n",
        "high_activity_threshold = 0.8\n",
        "percentages = (\n",
        "    df.assign(flag=df[\"activity_0\"] > high_activity_threshold)  # Create a boolean flag\n",
        "    .groupby(\"iteration\")[\"flag\"]\n",
        "    .mean()  # Compute the mean, which gives the percentage\n",
        "    .mul(100)  # Convert to percentage\n",
        "    .reset_index()\n",
        "    .rename(columns={\"flag\": \"percentage\"})\n",
        ")\n",
        "## Plot\n",
        "sns.barplot(data=percentages, x='iteration', y='percentage')\n",
        "plt.ylabel('high activity candidates (%)')\n",
        "plt.xlabel('EvolvePRO Round')\n"
      ]
    }
  ],
  "metadata": {
    "accelerator": "GPU",
    "colab": {
      "gpuType": "T4",
      "provenance": []
    },
    "kernelspec": {
      "display_name": "Python 3 (ipykernel)",
      "language": "python",
      "name": "python3"
    },
    "language_info": {
      "codemirror_mode": {
        "name": "ipython",
        "version": 3
      },
      "file_extension": ".py",
      "mimetype": "text/x-python",
      "name": "python",
      "nbconvert_exporter": "python",
      "pygments_lexer": "ipython3",
      "version": "3.10.12"
    }
  },
  "nbformat": 4,
  "nbformat_minor": 0
}